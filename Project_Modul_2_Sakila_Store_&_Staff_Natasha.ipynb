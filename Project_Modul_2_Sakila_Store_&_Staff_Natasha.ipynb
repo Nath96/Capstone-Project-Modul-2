{
  "nbformat": 4,
  "nbformat_minor": 0,
  "metadata": {
    "colab": {
      "name": "Project Modul 2 Sakila - Store & Staff - Natasha.ipynb",
      "provenance": [],
      "collapsed_sections": []
    },
    "kernelspec": {
      "name": "python3",
      "display_name": "Python 3"
    },
    "language_info": {
      "name": "python"
    }
  },
  "cells": [
    {
      "cell_type": "markdown",
      "source": [
        "#.**DATA UNDERSTANDING**\n"
      ],
      "metadata": {
        "id": "5fWW3KhBf34F"
      }
    },
    {
      "cell_type": "markdown",
      "source": [
        "## **Context**\n",
        "\n",
        "Sebuah perusahaan yang menyewakan DVD ingin mengetahui gambaran umum tentang bisnis yang sedang mereka jalankan. Terdapat sebuah database yang menunjukan aktivitas dari perusahaan seperti jumlah sewa, jumlah customer, total income per bulan pada setiap toko.\n",
        "\n",
        "Dari database tersebut, fokus analisis kita ke tabel store & staff untuk mendapatkan insight yang dapat dijalankan.\n",
        "\n",
        "\n",
        "## **Database Information**\n",
        "\n",
        "Database yang dimiliki mempunyai 16 tabel, yaitu:\n",
        "\n",
        "*   **Actor** : Informasi tentang data actor. \n",
        "*   **Address :** Informasi alamat untuk pelanggan, staf, dan toko.\n",
        "*   **Category :** Kategori yang dapat ditetapkan ke sebuah film. \n",
        "*   **City :** Daftar kota. \n",
        "*   **Country** : Daftar negara.\n",
        "*   **Customer :** Informasi tentang data pelanggan/customer. \n",
        "*   **Film** : Daftar semua film yang berpotensi tersedia di toko-toko. Salinan stok aktual dari setiap film disajikan dalam tabel inventory. \n",
        "*   **Film_actor** : Digunakan untuk mendukung many-to-many relationship antara film dan aktor. Untuk setiap aktor dalam film tertentu, akan ada satu baris di tabel film_actor yang mencantumkan aktor dan film. \n",
        "*   **Film_category :** Digunakan untuk mendukung many-to-many relationship antara film dan kategori. Untuk setiap kategori yang diterapkan pada sebuah film, akan ada satu baris dalam tabel kategori film yang mencantumkan kategori dan film. \n",
        "*   **Film_text :** Berisi kolom film_id, judul dan deskripsi dari tabel film, dengan isi tabel tetap sinkron dengan tabel film melalui triggers pada tabel film operasi INSERT, UPDATE dan DELETE. \n",
        "*   **Inventory :** Berisi satu baris untuk setiap salinan film tertentu di toko tertentu. \n",
        "*   **Language :** Tabel pencarian yang mencantumkan kemungkinan bahasa yang dimiliki film untuk bahasa dan nilai bahasa aslinya. a lookup table listing the possible languages that films can have for their language and original language values.\n",
        "*   **Payment :** Mencatat setiap pembayaran yang dilakukan oleh pelanggan, dengan informasi seperti jumlah dan sewa yang dibayar (bila berlaku). \n",
        "*   **Rental :** Berisi satu baris untuk setiap penyewaan setiap item inventaris dengan informasi tentang siapa yang menyewa item apa, kapan disewa, dan kapan dikembalikan. \n",
        "*   **Staff :** Daftar semua anggota staf, termasuk informasi untuk alamat email, informasi login, dan gambar. \n",
        "*   **Store :** Daftar semua toko dalam sistem. Semua inventory ditugaskan ke toko tertentu, dan staf serta pelanggan diberi \"toko rumah\". \n",
        "\n",
        "Setiap tabel yang tertera pada database dapat terhubung, baik secara langsung maupun tidak langsung, sehingga setiap informasi dari database ini akan dapat saling berkaitan.\n"
      ],
      "metadata": {
        "id": "w2sF8plxgRLX"
      }
    },
    {
      "cell_type": "markdown",
      "source": [
        "#**DATABASE**\n"
      ],
      "metadata": {
        "id": "HGtC3LcDnaj_"
      }
    },
    {
      "cell_type": "markdown",
      "source": [
        "## **Connecting To Database**\n",
        "\n",
        "Bagian ini merupakan langkah awal untuk mulai melakukan proses analisis data. Pertama adalah membuat koneksi ke database di mana seperti yang sudah dijelaskan sebelumnya, database yang akan digunakan adalah database ``sakila``. Dengan melakukan koneksi ini, kita dapat mengakses seluruh tabel yang ada pada database.\n"
      ],
      "metadata": {
        "id": "lHtBYYMznjAh"
      }
    },
    {
      "cell_type": "code",
      "source": [
        "# Import Modules\n",
        "\n",
        "import pandas as pd\n",
        "import numpy as np\n",
        "import mysql.connector as sqlcon"
      ],
      "metadata": {
        "id": "1j_isnQaV2kT"
      },
      "execution_count": null,
      "outputs": []
    },
    {
      "cell_type": "code",
      "source": [
        "# Connect To Database\n",
        "\n",
        "mydb = sqlcon.connect(\n",
        "    host = 'localhost',\n",
        "    user = 'root',\n",
        "    passwd = '262626',\n",
        "    database = 'sakila'\n",
        ")"
      ],
      "metadata": {
        "id": "A7o5TrEzn3Cm"
      },
      "execution_count": null,
      "outputs": []
    },
    {
      "cell_type": "markdown",
      "source": [
        "Selain melakukan koneksi ke database, hal lain yang perlu dilakukan pada bagian awal ini adalah membuat sebuah fungsi untuk menuliskan ``query`` yang kemudian akan disimpan dalam bentuk DataFrame. Tujuannya adalah agar data hasil ``query`` yang dibuat dapat disimpan dan digunakan untuk keperluan analisis data. Nantinya, di sini terdapat 2 query untuk mengambil data-data yang ada di database, bukan hanya berasal dari 1 tabel, tapi juga akan melibatkan hubungan antar tabel."
      ],
      "metadata": {
        "id": "SHmxuMUYn6GG"
      }
    },
    {
      "cell_type": "code",
      "source": [
        "# Query Function\n",
        "\n",
        "curs = mydb.cursor()\n",
        "\n",
        "def sql_table (query) :\n",
        "    curs.execute (query)\n",
        "    result = curs.fetchall()\n",
        "    df = pd.DataFrame(result, columns=curs.column_names)\n",
        "    return df"
      ],
      "metadata": {
        "id": "pTMY1JPxrfVB"
      },
      "execution_count": null,
      "outputs": []
    },
    {
      "cell_type": "markdown",
      "source": [
        "## **Data Detail**\n",
        "Data pertama ini merupakan data utama yang nantinya akan dianalisa lebih lanjut. Data ini merupakan gabungan dari 3 tabel, yaitu tabel ```Store```, ```Payment```, dan ```Rental```. Masing-masing dari setiap tabel tersebut diambil beberapa kolomnya dan tidak diambil secara keseluruhan. Informasi-informasi yang dianggap penting saja lah yang diambil. Informasi yang diambil antara lain adalah :\n",
        "- store dari tabel store\n",
        "- yearmonth dari tabel rental\n",
        "- rental_date dari tabel rental\n",
        "- return_date dari tabel rental\n",
        "- total_rental dari tabel rental\n",
        "- total_customer dari tabel customer\n",
        "- total_income dari tabel payment "
      ],
      "metadata": {
        "id": "OUDHppCSrlkA"
      }
    },
    {
      "cell_type": "code",
      "source": [
        "# Dataframe\n",
        "\n",
        "df = sql_table (\n",
        "'''\n",
        "select s.store_id as store, \n",
        "DATE_FORMAT(r.rental_date, \"%Y-%m\") as yearmonth ,\n",
        "rental_date, return_date,\n",
        "count(*) as total_rental, \n",
        "count(distinct r.customer_id) as total_customer, \n",
        "round(sum(amount)) as total_income \n",
        "from rental r\n",
        "join staff s\n",
        "on s.staff_id = r.staff_id\n",
        "join payment p\n",
        "  on p.rental_id = r.rental_id\n",
        "group by yearmonth , s.store_id\n",
        "order by s.store_id, yearmonth;\n",
        "'''\n",
        ")\n",
        "df.head(10)"
      ],
      "metadata": {
        "id": "jUm2WtWJO-eh"
      },
      "execution_count": null,
      "outputs": []
    },
    {
      "cell_type": "markdown",
      "source": [
        "### *Data jumlah sewa per bulan untuk setiap toko*\n"
      ],
      "metadata": {
        "id": "H9i-oW5KO0aD"
      }
    },
    {
      "cell_type": "code",
      "source": [
        "# Total Rental per month (Aggregating)\n",
        "\n",
        "tabel1 = sql_table (\n",
        "    '''\n",
        "select s.store_id as store, \n",
        "DATE_FORMAT(r.rental_date, \"%Y-%m\") as yearmonth ,\n",
        "count(*) as total_rental\n",
        "from rental r\n",
        "join staff s\n",
        "on s.staff_id = r.staff_id\n",
        "group by yearmonth , s.store_id\n",
        "order by s.store_id,yearmonth; \n",
        "    '''\n",
        ")\n",
        "tabel1.head(10)"
      ],
      "metadata": {
        "id": "1Jwb_0F0Adai"
      },
      "execution_count": null,
      "outputs": []
    },
    {
      "cell_type": "markdown",
      "source": [
        "### *Data jumlah customer per bulan untuk setiap toko*\n"
      ],
      "metadata": {
        "id": "Ng_AQcG_I4Xt"
      }
    },
    {
      "cell_type": "code",
      "source": [
        "# Total Customer per month (Aggregating)\n",
        "\n",
        "tabel2 = sql_table(\n",
        "    '''\n",
        "select c.store_id as store,\n",
        "DATE_FORMAT(r.rental_date, \"%Y-%m\") as yearmonth ,\n",
        "count(distinct r.customer_id) as total_customer \n",
        "from rental r\n",
        "join customer c\n",
        "on c.customer_id = r.customer_id\n",
        "group by yearmonth , c.store_id\n",
        "order by c.store_id, yearmonth; \n",
        "    '''\n",
        ")\n",
        "\n",
        "tabel2.head(10)\n"
      ],
      "metadata": {
        "id": "87hrTbQxNARl"
      },
      "execution_count": null,
      "outputs": []
    },
    {
      "cell_type": "markdown",
      "source": [
        "### *Data total pendapatan per bulan untuk setiap toko*"
      ],
      "metadata": {
        "id": "if1JbIcMNAnh"
      }
    },
    {
      "cell_type": "code",
      "source": [
        "# Total Income per month (Aggregating)\n",
        "\n",
        "tabel3 = sql_table(\n",
        "    '''\n",
        "select s.store_id as store,\n",
        "DATE_FORMAT(r.rental_date, \"%Y-%m\") as yearmonth ,\n",
        "round(sum(amount)) as total_income \n",
        "from payment p\n",
        "join rental r \n",
        "  on p.rental_id = r.rental_id \n",
        "join staff s\n",
        "  on s.staff_id = r.staff_id\n",
        "group by yearmonth , s.store_id\n",
        "order by s.store_id, yearmonth;\n",
        "'''\n",
        ")\n",
        "tabel3.head(10)"
      ],
      "metadata": {
        "id": "5AlSn7ySNebP"
      },
      "execution_count": null,
      "outputs": []
    },
    {
      "cell_type": "markdown",
      "source": [
        "# **DATA MANIPULATION**"
      ],
      "metadata": {
        "id": "AY8_gUQ8Nf1E"
      }
    },
    {
      "cell_type": "markdown",
      "source": [
        "Seperti yang telah dijelaskan sebelumnya, data yang digunakan untuk dianalisis adalah data pada ```df```. Sebelum melakukan analisis lebih lanjut, hal yang harus dilakukan adalah mengecek informasi serta anomali pada data. Jika memang terdapat hal-hal yang dianggap 'kotor' pada data, maka yang perlu dilakukan adalah melakukan penanganan pada bagian tersebut. Pada bagian ini, data akan 'dibersihkan', sehingga output akhir yang diharapkan adalah terdapat sebuah dataset yang bersih yang dapat dianalisis lebih lanjut dengan menampilkan visualisasi, serta melihat statistics-nya."
      ],
      "metadata": {
        "id": "SHbsQwUYNtPL"
      }
    },
    {
      "cell_type": "markdown",
      "source": [
        "## **Data Anomalies**"
      ],
      "metadata": {
        "id": "0M1RpTNEOFDJ"
      }
    },
    {
      "cell_type": "code",
      "source": [
        "# Check Info Tabel\n",
        "\n",
        "tabel1.info()\n",
        "tabel2.info()\n",
        "tabel3.info()"
      ],
      "metadata": {
        "id": "MY4P_sOyT994"
      },
      "execution_count": null,
      "outputs": []
    },
    {
      "cell_type": "markdown",
      "source": [
        "## **Melihat Data Sekilas Dari General Info**\n",
        "\n",
        "Jika melihat informasi tersebut, tidak semua kolom atau feature yang memiliki data lengkap, yaitu **return_date**. Selain dari itu, ada beberapa feature yang datanya juga missing, yang nantinya akan ditampilkan pada bagian berikutnya. **Kesimpulan pertama adalah bahwa terdapat *missing value* yang harus ditanggulangi.**\n",
        "\n",
        "Fokus berikutnya adalah perhatikan pada features **total_income**\n",
        "\n",
        "Feature ini merupakan feature yang seharusnya memiliki tipe data numerik (dibuktikan pada preview data di bagian sebelumnya), sedangkan yang terbaca tipe data dari feature ini adalah object. Artinya, feature ini tidak dianggap memiliki komponen data yang numerik. Tentu saja hal tersebut harus ditanggulangi, mengingat ke depannya data yang bersifat numerik ini akan digunakan.\n",
        "\n",
        "Oleh karena itu, features ini juga harus ditanggulangi dengan cara mengubah tipe datanya. **Kesimpulan keduanya adalah terdapat features yang memiliki tipe data yang salah dan harus diubah sesuai dengan tipe data seharusnya.**"
      ],
      "metadata": {
        "id": "ixQoPehRUZb6"
      }
    },
    {
      "cell_type": "code",
      "source": [
        "# Check Missing Value Percentage\n",
        "\n",
        "df.isnull().sum()"
      ],
      "metadata": {
        "id": "mbCGnlXVTwp7"
      },
      "execution_count": null,
      "outputs": []
    },
    {
      "cell_type": "markdown",
      "source": [
        "## **Missing Values**\n",
        "\n",
        "Hanya feature return_date yang memiliki missing value sebanyak 2. Untuk mengatasinya cukup dengan menghapus 2 row tersebut, karna hanya sedikit maka tidak akan mengurangi informasi secara signifikan."
      ],
      "metadata": {
        "id": "36nwZa7OT6HK"
      }
    },
    {
      "cell_type": "markdown",
      "source": [
        "## **Handling Anomalies**"
      ],
      "metadata": {
        "id": "ZkWmNeYxU-p3"
      }
    },
    {
      "cell_type": "markdown",
      "source": [
        "Setelah mengetahui hal yang harus 'dibereskan' terlebih dahulu, maka pada bagian ini, hal tersebut harus diatasi. Pertama, masalah missing value kita atasi dengan menghapus row yang berisi nilai null dengan dropna()"
      ],
      "metadata": {
        "id": "afLgI_hvVBM5"
      }
    },
    {
      "cell_type": "code",
      "source": [
        "# Remove Missing Value \n",
        "df.dropna(axis=0)"
      ],
      "metadata": {
        "id": "xOr_d-7FVNsz"
      },
      "execution_count": null,
      "outputs": []
    },
    {
      "cell_type": "markdown",
      "source": [
        "## **Mengubah Tipe Data Yang Salah**\n",
        "\n",
        "Oke, telah disebutkan juga sebelumnya bahwa ada tipe data yang tidak sesuai. Features tersebut terlebih dahulu diubah agar fungsionalitasnya kembali ke hakekatnya. Numerik akan diperlakukan sebagai tipe data numerik. Tujuannya tentu saja agar features tersebut dapat dipergunakan sebagaimana mestinya."
      ],
      "metadata": {
        "id": "b8EjKrpjZoa5"
      }
    },
    {
      "cell_type": "code",
      "source": [
        "# Change Spesific Column To Numeric Format\n",
        "\n",
        "df['total_income'] = pd.to_numeric(df['total_income'])\n",
        "tabel3['total_income'] = pd.to_numeric(tabel3['total_income'])"
      ],
      "metadata": {
        "id": "tEXUn8I2c_UC"
      },
      "execution_count": null,
      "outputs": []
    },
    {
      "cell_type": "code",
      "source": [
        "# Recheck Info\n",
        "\n",
        "df.info()\n",
        "tabel3.info()"
      ],
      "metadata": {
        "id": "siqcE7otdBKb"
      },
      "execution_count": null,
      "outputs": []
    },
    {
      "cell_type": "markdown",
      "source": [
        "## **Recheck Data Information**\n",
        "\n",
        "Bagian sebelumnya, Feature **total_income** yang memiliki tipe data yang salah sudah diubah ke dalam tipe data yang seharusnya, yang awalnya bertipe data object sudah berubah menjadi float64. Untuk memastikannya, output di atas merupakan informasi umum yang kembali diperlihatkan untuk memastikan tipe data yang sudah diubah tersebut. \n",
        "\n",
        "Dengan begini, perubahan yang dilakukan sebelumnya sudah terimplementasi dan anomali yang kedua sudah teratasi. "
      ],
      "metadata": {
        "id": "x0eIZHPqdHiH"
      }
    },
    {
      "cell_type": "code",
      "source": [
        "# Check Duplicate\n",
        "\n",
        "df[df.duplicated()]"
      ],
      "metadata": {
        "id": "EXkOAKEvmFMf"
      },
      "execution_count": null,
      "outputs": []
    },
    {
      "cell_type": "markdown",
      "source": [
        "\n",
        "## **Data Duplicate**\n",
        "\n",
        "Anomali berikutnya yang bisa ditemui adalah data yang duplikat. Tentu saja data yang bersifat duplikat ini akan menjadi sesuatu hal yang akan mengganggu proses analisis data. Jika memang nantinya terdapat data yang duplikat, sebaiknya data duplikatnya dihapus dan disisakan data yang unique saja. Untuk data saat ini, melihat output di atas artinya tidak terdapat data yang duplikat. Dengan begitu tidak perlu ada action yang dilakukan."
      ],
      "metadata": {
        "id": "cFxAz6fqRxMl"
      }
    },
    {
      "cell_type": "markdown",
      "source": [
        "## **Feature 'RentalDuration'**\n",
        "Data awal menunjukan terdapat 2 features yang merupakan tipe data datetime. Artinya, kita dapat melakukan ekstraksi informasi tambahan dari kedua features tersebut. Sebelumnya, kita perlu tahu dulu definisi dari kedua tabel tersebut. **rental_date** adalah tanggal customer meminjam DVD, sedangkat **return_date** adalah tanggal customer mengembalikan DVD. \n",
        "\n",
        "Melihat kedua definisi tersebut, sebuah informasi dapat diambil, yakni seberapa lama waktu pinjam customer menyewa DVD. \n",
        "\n",
        "Oleh karena itu, untuk mendapatkan informasinya, maka perlu dilakukan pengurangan antara return_date dan juga rental_date. Mungkin akan timbul pertanyaan, apakah waktu dapat dikurangkan? Jawabannya, bisa. Output yang keluar nantinya akan berupa selisih atau lamanya waktu proses tersebut dalam satuan hari."
      ],
      "metadata": {
        "id": "lmwgmhXDR1Mw"
      }
    },
    {
      "cell_type": "code",
      "source": [
        "# Add New Column (Lama Pinjam)\n",
        "\n",
        "rental_duration = sql_table(\n",
        "    '''\n",
        "select rental_id, staff_id, customer_id , rental_date, \n",
        "return_date, DateDiff (return_date,rental_date) as lama_pinjam\n",
        "from rental order by rental_id;\n",
        "    '''\n",
        ")\n",
        "rental_duration.sample(5)"
      ],
      "metadata": {
        "id": "OOWaqfp_R3PC"
      },
      "execution_count": null,
      "outputs": []
    },
    {
      "cell_type": "markdown",
      "source": [
        "## **Unique Value 'RentalDuration'**\n",
        "Berikut hasil yang memperlihatkan unique values beserta jumlah data di setiap unique values-nya."
      ],
      "metadata": {
        "id": "ope0qvYOR3zD"
      }
    },
    {
      "cell_type": "code",
      "source": [
        "# Check Data Anomalies \n",
        "\n",
        "rental_duration['lama_pinjam'].value_counts() "
      ],
      "metadata": {
        "id": "-W7h_pbdR-DC"
      },
      "execution_count": null,
      "outputs": []
    },
    {
      "cell_type": "markdown",
      "source": [
        "## **Anomali Pada RentalDuration**\n",
        "Melihat output unique values beserta dengan banyaknya data di setiap unique values tersebut, terlihat tidak ada data yang salah, semua data waktu menunjukan tidak ada nilai minus\n"
      ],
      "metadata": {
        "id": "a-4-RHfRSCti"
      }
    },
    {
      "cell_type": "markdown",
      "source": [
        "## **Preview Cleaned Data**\n",
        "\n",
        "Di bawah ini adalah sample data yang dianggap sudah bersih setelah melewati proses-proses sebelumnya."
      ],
      "metadata": {
        "id": "jd_w7_DetXci"
      }
    },
    {
      "cell_type": "code",
      "source": [
        "# Clean Data\n",
        "\n",
        "df.sample(5)"
      ],
      "metadata": {
        "id": "QLbQvylVteMy"
      },
      "execution_count": null,
      "outputs": []
    },
    {
      "cell_type": "markdown",
      "source": [
        "## **Total Pendapatan tiap Toko**\n"
      ],
      "metadata": {
        "id": "_DO2lkSmSRre"
      }
    },
    {
      "cell_type": "code",
      "source": [
        "# Groupping and Aggregating\n",
        "\n",
        "df[['store','total_income']].groupby('store').describe()"
      ],
      "metadata": {
        "id": "ojwUQBOlSSnU"
      },
      "execution_count": null,
      "outputs": []
    },
    {
      "cell_type": "markdown",
      "source": [
        "## **Data Outlier**"
      ],
      "metadata": {
        "id": "pNk9KArqSS_C"
      }
    },
    {
      "cell_type": "code",
      "source": [
        "# Outlier Check With Function\n",
        "Q1_amount = df['total_income'].describe()['25%']\n",
        "Q3_amount = df['total_income'].describe()['75%']\n",
        "iqr = Q3_amount - Q1_amount\n",
        "\n",
        "outlier_index = df[(df['total_income'] < Q1_amount - (1.5 * iqr)) | (df['total_income']> Q3_amount + (1.5 * iqr)) ].index\n",
        "not_outlier_index = df[(df['total_income'] > Q1_amount - (1.5 * iqr)) & (df['total_income']< Q3_amount + (1.5 * iqr)) ].index\n",
        "df.loc[outlier_index]"
      ],
      "metadata": {
        "id": "Rzg-TVZySYqP"
      },
      "execution_count": null,
      "outputs": []
    },
    {
      "cell_type": "markdown",
      "source": [
        "Tidak terdapat outlier pada data ini."
      ],
      "metadata": {
        "id": "XJdXlwhpTxB3"
      }
    },
    {
      "cell_type": "markdown",
      "source": [
        "# **DATA VISUALIZATION & STATISTICS**"
      ],
      "metadata": {
        "id": "B9p4Xm-XSp37"
      }
    },
    {
      "cell_type": "markdown",
      "source": [
        "Setelah mendapatkan data yang sudah 'bersih' dan siap untuk digunakan, masuklah kita ke bagian analisis data dengan menggunakan visual sebagai medianya. Di sini, kita akan melakukan visualisasi data untuk mendapatkan beberapa insight yang kemudian dapat menjadi landasan dalam pengambilan keputusan dan penyusunan strategi yang kuat untuk mendapatkan profit yang sebesar-besarnya dengan kerugian yang minim."
      ],
      "metadata": {
        "id": "afadZi-X2izv"
      }
    },
    {
      "cell_type": "code",
      "source": [
        "import plotly.express as px\n",
        "import matplotlib.pyplot as plt\n",
        "import seaborn as sns"
      ],
      "metadata": {
        "id": "NkKeviKiRCWQ"
      },
      "execution_count": null,
      "outputs": []
    },
    {
      "cell_type": "markdown",
      "source": [
        "Kita akan menampilkan grafik total customer dan total rental  tiap bulan untuk di analisis"
      ],
      "metadata": {
        "id": "8nFACM9s2qzq"
      }
    },
    {
      "cell_type": "markdown",
      "source": [
        "### *Total Customer per month*"
      ],
      "metadata": {
        "id": "p_r94iwIWI5Z"
      }
    },
    {
      "cell_type": "code",
      "source": [
        "#Total Customer per month each store\n",
        "\n",
        "sns.barplot(data=df, x=\"yearmonth\", y=\"total_customer\", hue=\"store\")\n",
        "plt.title('Total Customer per month', size=15)\n",
        "plt.legend(loc=0)\n",
        "plt.show()"
      ],
      "metadata": {
        "id": "5KT4oCzOZxhO"
      },
      "execution_count": null,
      "outputs": []
    },
    {
      "cell_type": "markdown",
      "source": [
        "### *Total Rental per month*"
      ],
      "metadata": {
        "id": "BlIYFqFhZzdv"
      }
    },
    {
      "cell_type": "code",
      "source": [
        "sns.barplot(data=df, x=\"yearmonth\", y=\"total_rental\", hue=\"store\")\n",
        "plt.title('Total Rental per month', size=15)\n",
        "plt.legend(loc=0)\n",
        "plt.show()"
      ],
      "metadata": {
        "id": "Lm5ZDLikZy6t"
      },
      "execution_count": null,
      "outputs": []
    },
    {
      "cell_type": "markdown",
      "source": [
        "## **Profit Rental DVD**"
      ],
      "metadata": {
        "id": "XLhc5o9cWCoH"
      }
    },
    {
      "cell_type": "code",
      "source": [
        "df['avg_payment'] = df['total_income'] / df['total_customer']\n",
        "yearprof = df[['yearmonth', 'total_rental' ,'total_income','avg_payment']].groupby(pd.DatetimeIndex(df['yearmonth'])).sum()\n",
        "yearprof"
      ],
      "metadata": {
        "id": "U5nUtjPMwwz2"
      },
      "execution_count": null,
      "outputs": []
    },
    {
      "cell_type": "code",
      "source": [
        "# Line Plot Profit by month\n",
        "\n",
        "plt.style.use('seaborn')\n",
        "plt.figure(figsize=(20,10))\n",
        "plt.plot(yearprof.index, yearprof['total_income'], 'ro-')\n",
        "plt.title('Profit 2005 - 2006 Rental DVD', size = 20)\n",
        "plt.xlabel('Bulan', size = 18)\n",
        "plt.ylabel('Profit', size = 18)\n",
        "plt.xticks(yearprof.index, rotation = 90, size = 12)\n",
        "plt.yticks(rotation = 45, size = 12)\n",
        "\n",
        "for x,y in zip(yearprof.index, round(yearprof['total_income'],1)) :\n",
        "    plt.annotate(y,\n",
        "    (x,y),\n",
        "    textcoords = 'offset pixels',\n",
        "    xytext = (1,15))\n",
        "\n",
        "plt.show()"
      ],
      "metadata": {
        "id": "7V-xbN6Nz0Dv"
      },
      "execution_count": null,
      "outputs": []
    },
    {
      "cell_type": "code",
      "source": [
        "# Line Plot Total Customer by month\n",
        "\n",
        "plt.style.use('seaborn')\n",
        "plt.figure(figsize=(20,10))\n",
        "plt.plot(yearprof.index, yearprof['total_customer'], 'ro-')\n",
        "plt.title('Total Customer 2005 - 2006 Rental DVD', size = 20)\n",
        "plt.xlabel('Bulan', size = 18)\n",
        "plt.ylabel('Total Customer', size = 18)\n",
        "plt.xticks(yearprof.index, rotation = 90, size = 12)\n",
        "plt.yticks(rotation = 45, size = 12)\n",
        "\n",
        "for x,y in zip(yearprof.index, round(yearprof['total_customer'],1)) :\n",
        "    plt.annotate(y,\n",
        "    (x,y),\n",
        "    textcoords = 'offset pixels',\n",
        "    xytext = (1,15))\n",
        "\n",
        "plt.show()"
      ],
      "metadata": {
        "id": "_EXvLIa6_PjZ"
      },
      "execution_count": null,
      "outputs": []
    },
    {
      "cell_type": "code",
      "source": [
        "# Line Plot Total Rental by month\n",
        "\n",
        "plt.style.use('seaborn')\n",
        "plt.figure(figsize=(20,10))\n",
        "plt.plot(yearprof.index, yearprof['total_rental'], 'ro-')\n",
        "plt.title('Total Rental 2005 - 2006 Rental DVD', size = 20)\n",
        "plt.xlabel('Bulan', size = 18)\n",
        "plt.ylabel('Total Rental', size = 18)\n",
        "plt.xticks(yearprof.index, rotation = 90, size = 12)\n",
        "plt.yticks(rotation = 45, size = 12)\n",
        "\n",
        "for x,y in zip(yearprof.index, round(yearprof['total_rental'],1)) :\n",
        "    plt.annotate(y,\n",
        "    (x,y),\n",
        "    textcoords = 'offset pixels',\n",
        "    xytext = (1,15))\n",
        "\n",
        "plt.show()"
      ],
      "metadata": {
        "id": "flmfOqGMVuVX"
      },
      "execution_count": null,
      "outputs": []
    },
    {
      "cell_type": "markdown",
      "source": [
        "Database yang dimiliki saat ini adalah database Profit 2005 - 2006 Rental DVD. Mari coba kita lihat total profit yang didapatkan oleh perusahaan dari tahun ke tahun. \n",
        "\n",
        "Terlihat jelas pada grafik, penjualan terbesar secara total dalam periode ini terjadi pada bulan 7 tahun 2005\n",
        "\n",
        "Secara grafik, dapat dilihat bahwa pada tahun 2006 nilai penjualan cukup menurun. Meski begitu, kita tidak bisa langsung menarik kesimpulan bahwa tahun 2006 ini tidak berjalan dengan baik masalah penjualannya. \n",
        "\n",
        "Hal tersebut dikarenakan dari database yang dimiliki, tahun 2006 ini belum sepenuhnya selesai. Grafik di bawah akan menjelaskan bahwa tahun 2005 berakhir sampai bulan ke 2 saja. Artinya, masih ada 10 bulan pada tahun tersebut, di mana datanya masih belum tersedia.\n",
        "\n",
        "Pada bulan 6 tahun 2005, total customer bertambah tapi total rental dan profit berkurang.\n",
        "\n",
        "Jika di lihat dari rata-rata biaya rental, pada bulan 6 tahun 2005, biaya rental nya tidak sebesar bulan 7 dan 8 tahun 2005, sehingga profit yang masuk tidak begitu besar."
      ],
      "metadata": {
        "id": "kWGJRNMp337S"
      }
    },
    {
      "cell_type": "markdown",
      "source": [
        "## **Uji Perbandingan**"
      ],
      "metadata": {
        "id": "MNQZgb2P1b2I"
      }
    },
    {
      "cell_type": "code",
      "source": [
        "# Uji Perbandingan Nilai Total Income\n",
        "\n",
        "from scipy.stats import shapiro\n",
        "\n",
        "norm, pval = shapiro(df['total_income'])\n",
        "\n",
        "if pval < 0.05 :\n",
        "    print (f'Tolak H0 Karena P-Value ({pval} < 5%)')\n",
        "    print ('DATA TIDAK BERDISTRIBUS NORMAL')\n",
        "else :\n",
        "    print (f'Gagal Tolak H0 Karena P-Value ({pval} > 5%)')\n",
        "    print ('DATA BERDISTRIBUS NORMAL')"
      ],
      "metadata": {
        "id": "F1KBFhsT1cva"
      },
      "execution_count": null,
      "outputs": []
    },
    {
      "cell_type": "markdown",
      "source": [
        "## **Hubungan / Korelasi**"
      ],
      "metadata": {
        "id": "7Fohk_B_YeHc"
      }
    },
    {
      "cell_type": "code",
      "source": [
        "# Korelasi\n",
        "\n",
        "plt.figure(figsize=(10,10))\n",
        "sns.heatmap(df[['store', 'total_income', 'total_rental', 'total_customer']].corr('spearman'), annot=True)"
      ],
      "metadata": {
        "id": "iwHNEk46Ylpf"
      },
      "execution_count": null,
      "outputs": []
    },
    {
      "cell_type": "code",
      "source": [
        "# Korelasi Antara Profit dan Customer\n",
        "\n",
        "plt.figure(figsize=(15,10))\n",
        "sns.scatterplot(df['total_income'], df['total_rental'], df['total_customer'])"
      ],
      "metadata": {
        "id": "zsDqrcV2YmVL"
      },
      "execution_count": null,
      "outputs": []
    }
  ]
}